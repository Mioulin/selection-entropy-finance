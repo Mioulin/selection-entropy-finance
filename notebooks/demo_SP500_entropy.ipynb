{
 "cells": [
  {
   "cell_type": "markdown",
   "id": "6f4f98a8",
   "metadata": {},
   "source": [
    "# Demo: Selection Entropy vs KL on S&P500-like Returns"
   ]
  },
  {
   "cell_type": "code",
   "execution_count": null,
   "id": "0fb6ad68",
   "metadata": {},
   "outputs": [],
   "source": [
    "\n",
    "import pandas as pd\n",
    "import numpy as np\n",
    "import matplotlib.pyplot as plt\n",
    "\n",
    "from pathlib import Path\n",
    "import sys\n",
    "sys.path.append(str(Path('..') / 'src'))\n",
    "from selection_entropy import selection_entropy_series, kl_divergence_series\n",
    "\n",
    "df = pd.read_csv(str(Path('..') / 'data' / 'toy_SP500.csv'))\n",
    "returns = df['returns'].values\n",
    "dates = pd.to_datetime(df['date'])\n",
    "\n",
    "se = selection_entropy_series(returns, window=200, n_bins=7, vol_window=60)\n",
    "kl = kl_divergence_series(returns, window=200, n_bins=30)\n",
    "\n",
    "plt.figure(figsize=(10,3)); plt.plot(dates, returns); plt.title('Synthetic S&P500-like Daily Returns'); plt.xlabel('Date'); plt.ylabel('Returns'); plt.show()\n",
    "plt.figure(figsize=(10,3)); plt.plot(dates, se); plt.title('Selection Entropy (demo proxy)'); plt.xlabel('Date'); plt.ylabel('SE'); plt.show()\n",
    "plt.figure(figsize=(10,3)); plt.plot(dates, kl); plt.title('Rolling KL Divergence'); plt.xlabel('Date'); plt.ylabel('KL'); plt.show()\n",
    "print('Done.')\n"
   ]
  }
 ],
 "metadata": {},
 "nbformat": 4,
 "nbformat_minor": 5
}
