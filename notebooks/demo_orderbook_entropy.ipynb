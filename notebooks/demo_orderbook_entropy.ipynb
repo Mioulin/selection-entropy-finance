{
 "cells": [
  {
   "cell_type": "markdown",
   "id": "5c33a651",
   "metadata": {},
   "source": [
    "# Demo: Selection Entropy on Toy Limit Order Book"
   ]
  },
  {
   "cell_type": "markdown",
   "id": "e30717aa",
   "metadata": {},
   "source": [
    "This notebook computes a rolling selection-entropy-style measure on a synthetic LOB and shows how it reacts to a microstructure regime change."
   ]
  },
  {
   "cell_type": "code",
   "execution_count": null,
   "id": "c80dc98a",
   "metadata": {},
   "outputs": [],
   "source": [
    "\n",
    "import pandas as pd\n",
    "import numpy as np\n",
    "import matplotlib.pyplot as plt\n",
    "\n",
    "from pathlib import Path\n",
    "import sys\n",
    "sys.path.append(str(Path('..') / 'src'))\n",
    "from se_orderbook import selection_entropy_orderflow\n",
    "\n",
    "lob = pd.read_csv(str(Path('..') / 'data' / 'sample_orderbook.csv'), parse_dates=['ts']).sort_values('ts').reset_index(drop=True)\n",
    "se = selection_entropy_orderflow(lob, window=600)\n",
    "\n",
    "counts = lob.set_index('ts').groupby('event_type').resample('5T').size().unstack(0).fillna(0)\n",
    "\n",
    "plt.figure(figsize=(10,3)); plt.plot(counts.index, counts.sum(axis=1)); plt.title('Total LOB Event Count per 5-min Window'); plt.xlabel('Time'); plt.ylabel('Count'); plt.show()\n",
    "\n",
    "se_ts = se.copy(); se_ts.index = lob['ts']; se_5min = se_ts.resample('5T').mean()\n",
    "plt.figure(figsize=(10,3)); plt.plot(se_5min.index, se_5min.values); plt.title('Selection Entropy of Order Flow (5-min avg)'); plt.xlabel('Time'); plt.ylabel('SE'); plt.show()\n",
    "\n",
    "mid_ts = lob.loc[len(lob)//2, 'ts']; print('Regime change at ~', mid_ts)\n"
   ]
  }
 ],
 "metadata": {},
 "nbformat": 4,
 "nbformat_minor": 5
}
